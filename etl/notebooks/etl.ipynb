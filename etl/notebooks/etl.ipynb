{
 "cells": [
  {
   "cell_type": "code",
   "execution_count": 1,
   "metadata": {},
   "outputs": [],
   "source": [
    "import pandas as pd\n",
    "from ddf_utils.str import to_concept_id, format_float_digits"
   ]
  },
  {
   "cell_type": "code",
   "execution_count": null,
   "metadata": {},
   "outputs": [],
   "source": []
  },
  {
   "cell_type": "code",
   "execution_count": 12,
   "metadata": {},
   "outputs": [],
   "source": [
    "source = '../source/Table_Model-based_estimates_Countries_Run20180220.xlsx'"
   ]
  },
  {
   "cell_type": "markdown",
   "metadata": {},
   "source": [
    "# Indicators\n",
    "\n",
    "- Contraceptive prevalence: Any method (Percentage) = Percentage of married or in-union women of reproductive age (15-49 years) who are currently using any method of contraception\n",
    "- Contraceptive prevalence: Any modern method (Percentage) = Percentage of married or in-union women of reproductive age (15-49 years) who are currently using any modern method of contraception\n",
    "- Contraceptive prevalence: Any traditional method (Percentage) = Percentage of married or in-union women of reproductive age (15-49 years) who are currently using any traditional method of contraception\n",
    "- Unmet need for family planning: Any method (Percentage) = Percentage of married or in-union women of reproductive age (15-49 years) who want to stop or delay childbearing but are not using a method of contraception\n",
    "- Unmet need for family planning: Any modern method (Percentage) = Percentage of married or in-union women of reproductive age (15-49 years) who want to stop or delay childbearing but are not using a modern method of contraception\n",
    "- Total demand for family planning (Percentage) = Percentage of married or in-union women of reproductive age (15-49 years) who are currently using, any method of contraception and the unmet need for family planning\n",
    "- Demand for family planning satisfied by any method (Percentage) = Percentage of married or in-union women of reproductive age (aged 15-49 years) who have their need for family planning satisfied with any methods\n",
    "- Demand for family planning satisfied by any modern method (Percentage) = Percentage of married or in-union women of reproductive age (aged 15-49 years) who have their need for family planning satisfied with modern methods\n",
    "- Contraceptive prevalence: Any method (Number) = Number of married or in-union women of reproductive age (15-49 years) who are currently using any method of contraception (thousands)\n",
    "- Contraceptive prevalence: Any modern method (Number) = Number of married or in-union women of reproductive age (15-49 years) who are currently using any modern method of contraception (thousands)\n",
    "- Unmet need for family planning: Any method (Number) = Number of married or in-union women of reproductive age (15-49 years) who want to stop or delay childbearing but are not using a method of contraception (thousands)\n",
    "- Unmet need for family planning: Any modern method (Number) = Number of married or in-union women of reproductive age (15-49 years) who want to stop or delay childbearing but are not using a modern method of contraception (thousands)"
   ]
  },
  {
   "cell_type": "code",
   "execution_count": 7,
   "metadata": {},
   "outputs": [],
   "source": [
    "c1 = 'Contraceptive prevalence (Percentage)'\n",
    "c2 = 'Unmet need (Percentage)'\n",
    "c3 = 'Total demand (Percentage)'\n",
    "c4 = 'Demand satisfied (Percentage)'\n",
    "c5 = 'Contraceptive prevalence (Number)'\n",
    "c6 = 'Unmet need (Number)'"
   ]
  },
  {
   "cell_type": "code",
   "execution_count": 9,
   "metadata": {},
   "outputs": [],
   "source": [
    "m1 = 'Any method'\n",
    "m2 = 'traditional method'\n",
    "m3 = 'modern method'"
   ]
  },
  {
   "cell_type": "code",
   "execution_count": 40,
   "metadata": {},
   "outputs": [],
   "source": [
    "method_mapping = {m1: 'any', m2: 'traditional', m3: 'modern'}"
   ]
  },
  {
   "cell_type": "code",
   "execution_count": null,
   "metadata": {},
   "outputs": [],
   "source": []
  },
  {
   "cell_type": "code",
   "execution_count": 8,
   "metadata": {},
   "outputs": [],
   "source": [
    "def d(c, m):\n",
    "    return {'indicator': c, 'method': m}"
   ]
  },
  {
   "cell_type": "code",
   "execution_count": 10,
   "metadata": {},
   "outputs": [],
   "source": [
    "mapping = {\n",
    "  \"Contraceptive prevalence: Any method (Percentage)\": d(c1, m1),\n",
    "  \"Contraceptive prevalence: Any modern method (Percentage)\" : d(c1, m3),\n",
    "  \"Contraceptive prevalence: Any traditional method (Percentage)\" : d(c1, m2),\n",
    "  \"Unmet need for family planning: Any method (Percentage)\" : d(c2, m1),\n",
    "  \"Unmet need for family planning: Any modern method (Percentage)\" : d(c2, m3),\n",
    "  \"Total demand for family planning (Percentage)\" : d(c3, None),\n",
    "  \"Demand for family planning satisfied by any method (Percentage)\" : d(c4, m1),\n",
    "  \"Demand for family planning satisfied by any modern method (Percentage)\" : d(c4, m3),\n",
    "  \"Contraceptive prevalence: Any method (Number)\" : d(c5, m1),\n",
    "  \"Contraceptive prevalence: Any modern method (Number)\" : d(c5, m3),\n",
    "  \"Unmet need for family planning: Any method (Number)\" : d(c6, m1),\n",
    "  \"Unmet need for family planning: Any modern method (Number)\" : d(c6, m3)\n",
    "}"
   ]
  },
  {
   "cell_type": "code",
   "execution_count": null,
   "metadata": {},
   "outputs": [],
   "source": []
  },
  {
   "cell_type": "code",
   "execution_count": 11,
   "metadata": {},
   "outputs": [
    {
     "data": {
      "text/plain": [
       "{'Contraceptive prevalence: Any method (Percentage)': {'indicator': 'Contraceptive prevalence (Percentage)',\n",
       "  'method': 'Any method'},\n",
       " 'Contraceptive prevalence: Any modern method (Percentage)': {'indicator': 'Contraceptive prevalence (Percentage)',\n",
       "  'method': 'modern method'},\n",
       " 'Contraceptive prevalence: Any traditional method (Percentage)': {'indicator': 'Contraceptive prevalence (Percentage)',\n",
       "  'method': 'traditional method'},\n",
       " 'Unmet need for family planning: Any method (Percentage)': {'indicator': 'Unmet need (Percentage)',\n",
       "  'method': 'Any method'},\n",
       " 'Unmet need for family planning: Any modern method (Percentage)': {'indicator': 'Unmet need (Percentage)',\n",
       "  'method': 'modern method'},\n",
       " 'Total demand for family planning (Percentage)': {'indicator': 'Total demand (Percentage)',\n",
       "  'method': None},\n",
       " 'Demand for family planning satisfied by any method (Percentage)': {'indicator': 'Demand satisfied (Percentage)',\n",
       "  'method': 'Any method'},\n",
       " 'Demand for family planning satisfied by any modern method (Percentage)': {'indicator': 'Demand satisfied (Percentage)',\n",
       "  'method': 'modern method'},\n",
       " 'Contraceptive prevalence: Any method (Number)': {'indicator': 'Contraceptive prevalence (Number)',\n",
       "  'method': 'Any method'},\n",
       " 'Contraceptive prevalence: Any modern method (Number)': {'indicator': 'Contraceptive prevalence (Number)',\n",
       "  'method': 'modern method'},\n",
       " 'Unmet need for family planning: Any method (Number)': {'indicator': 'Unmet need (Number)',\n",
       "  'method': 'Any method'},\n",
       " 'Unmet need for family planning: Any modern method (Number)': {'indicator': 'Unmet need (Number)',\n",
       "  'method': 'modern method'}}"
      ]
     },
     "execution_count": 11,
     "metadata": {},
     "output_type": "execute_result"
    }
   ],
   "source": [
    "mapping"
   ]
  },
  {
   "cell_type": "code",
   "execution_count": null,
   "metadata": {},
   "outputs": [],
   "source": []
  },
  {
   "cell_type": "code",
   "execution_count": 14,
   "metadata": {},
   "outputs": [],
   "source": [
    "data1 = pd.read_excel(source, sheet_name='FP Indicators (Percentage)', skiprows=3)"
   ]
  },
  {
   "cell_type": "code",
   "execution_count": 16,
   "metadata": {},
   "outputs": [
    {
     "data": {
      "text/html": [
       "<div>\n",
       "<style scoped>\n",
       "    .dataframe tbody tr th:only-of-type {\n",
       "        vertical-align: middle;\n",
       "    }\n",
       "\n",
       "    .dataframe tbody tr th {\n",
       "        vertical-align: top;\n",
       "    }\n",
       "\n",
       "    .dataframe thead th {\n",
       "        text-align: right;\n",
       "    }\n",
       "</style>\n",
       "<table border=\"1\" class=\"dataframe\">\n",
       "  <thead>\n",
       "    <tr style=\"text-align: right;\">\n",
       "      <th></th>\n",
       "      <th>Country or area</th>\n",
       "      <th>Numerical code</th>\n",
       "      <th>Indicator</th>\n",
       "      <th>Median estimate and uncertainty intervals</th>\n",
       "      <th>Year</th>\n",
       "      <th>Sex</th>\n",
       "      <th>AgeGroup</th>\n",
       "      <th>AgeStart</th>\n",
       "      <th>AgeEnd</th>\n",
       "      <th>DataValue</th>\n",
       "      <th>DataProcress</th>\n",
       "    </tr>\n",
       "  </thead>\n",
       "  <tbody>\n",
       "    <tr>\n",
       "      <th>0</th>\n",
       "      <td>Afghanistan</td>\n",
       "      <td>4</td>\n",
       "      <td>Contraceptive prevalence: Any method (Percentage)</td>\n",
       "      <td>Lower bound of 95% uncertainty</td>\n",
       "      <td>1970</td>\n",
       "      <td>Women</td>\n",
       "      <td>15-49</td>\n",
       "      <td>15</td>\n",
       "      <td>49</td>\n",
       "      <td>0.9</td>\n",
       "      <td>Estimate</td>\n",
       "    </tr>\n",
       "    <tr>\n",
       "      <th>1</th>\n",
       "      <td>Afghanistan</td>\n",
       "      <td>4</td>\n",
       "      <td>Contraceptive prevalence: Any method (Percentage)</td>\n",
       "      <td>Lower bound of 80% uncertainty</td>\n",
       "      <td>1970</td>\n",
       "      <td>Women</td>\n",
       "      <td>15-49</td>\n",
       "      <td>15</td>\n",
       "      <td>49</td>\n",
       "      <td>1.1</td>\n",
       "      <td>Estimate</td>\n",
       "    </tr>\n",
       "    <tr>\n",
       "      <th>2</th>\n",
       "      <td>Afghanistan</td>\n",
       "      <td>4</td>\n",
       "      <td>Contraceptive prevalence: Any method (Percentage)</td>\n",
       "      <td>MEDIAN ESTIMATE (adjusted)</td>\n",
       "      <td>1970</td>\n",
       "      <td>Women</td>\n",
       "      <td>15-49</td>\n",
       "      <td>15</td>\n",
       "      <td>49</td>\n",
       "      <td>1.7</td>\n",
       "      <td>Estimate</td>\n",
       "    </tr>\n",
       "    <tr>\n",
       "      <th>3</th>\n",
       "      <td>Afghanistan</td>\n",
       "      <td>4</td>\n",
       "      <td>Contraceptive prevalence: Any method (Percentage)</td>\n",
       "      <td>Upper bound of 80% uncertainty</td>\n",
       "      <td>1970</td>\n",
       "      <td>Women</td>\n",
       "      <td>15-49</td>\n",
       "      <td>15</td>\n",
       "      <td>49</td>\n",
       "      <td>2.6</td>\n",
       "      <td>Estimate</td>\n",
       "    </tr>\n",
       "    <tr>\n",
       "      <th>4</th>\n",
       "      <td>Afghanistan</td>\n",
       "      <td>4</td>\n",
       "      <td>Contraceptive prevalence: Any method (Percentage)</td>\n",
       "      <td>Upper bound of 95% uncertainty</td>\n",
       "      <td>1970</td>\n",
       "      <td>Women</td>\n",
       "      <td>15-49</td>\n",
       "      <td>15</td>\n",
       "      <td>49</td>\n",
       "      <td>3.3</td>\n",
       "      <td>Estimate</td>\n",
       "    </tr>\n",
       "  </tbody>\n",
       "</table>\n",
       "</div>"
      ],
      "text/plain": [
       "  Country or area  Numerical code  \\\n",
       "0     Afghanistan               4   \n",
       "1     Afghanistan               4   \n",
       "2     Afghanistan               4   \n",
       "3     Afghanistan               4   \n",
       "4     Afghanistan               4   \n",
       "\n",
       "                                           Indicator  \\\n",
       "0  Contraceptive prevalence: Any method (Percentage)   \n",
       "1  Contraceptive prevalence: Any method (Percentage)   \n",
       "2  Contraceptive prevalence: Any method (Percentage)   \n",
       "3  Contraceptive prevalence: Any method (Percentage)   \n",
       "4  Contraceptive prevalence: Any method (Percentage)   \n",
       "\n",
       "  Median estimate and uncertainty intervals  Year    Sex AgeGroup  AgeStart  \\\n",
       "0            Lower bound of 95% uncertainty  1970  Women    15-49        15   \n",
       "1            Lower bound of 80% uncertainty  1970  Women    15-49        15   \n",
       "2                MEDIAN ESTIMATE (adjusted)  1970  Women    15-49        15   \n",
       "3            Upper bound of 80% uncertainty  1970  Women    15-49        15   \n",
       "4            Upper bound of 95% uncertainty  1970  Women    15-49        15   \n",
       "\n",
       "   AgeEnd  DataValue DataProcress  \n",
       "0      49        0.9     Estimate  \n",
       "1      49        1.1     Estimate  \n",
       "2      49        1.7     Estimate  \n",
       "3      49        2.6     Estimate  \n",
       "4      49        3.3     Estimate  "
      ]
     },
     "execution_count": 16,
     "metadata": {},
     "output_type": "execute_result"
    }
   ],
   "source": [
    "data1.head()"
   ]
  },
  {
   "cell_type": "code",
   "execution_count": 18,
   "metadata": {},
   "outputs": [
    {
     "data": {
      "text/plain": [
       "array(['Women'], dtype=object)"
      ]
     },
     "execution_count": 18,
     "metadata": {},
     "output_type": "execute_result"
    }
   ],
   "source": [
    "data1['Sex'].unique()"
   ]
  },
  {
   "cell_type": "code",
   "execution_count": 19,
   "metadata": {},
   "outputs": [
    {
     "data": {
      "text/plain": [
       "Index(['Country or area', 'Numerical code', 'Indicator',\n",
       "       'Median estimate and uncertainty intervals', 'Year', 'Sex', 'AgeGroup',\n",
       "       'AgeStart', 'AgeEnd', 'DataValue', 'DataProcress'],\n",
       "      dtype='object')"
      ]
     },
     "execution_count": 19,
     "metadata": {},
     "output_type": "execute_result"
    }
   ],
   "source": [
    "data1.columns"
   ]
  },
  {
   "cell_type": "code",
   "execution_count": 30,
   "metadata": {},
   "outputs": [],
   "source": [
    "df1 = data1[['Country or area', 'Indicator', 'Median estimate and uncertainty intervals', 'DataValue', 'Year']]"
   ]
  },
  {
   "cell_type": "code",
   "execution_count": 21,
   "metadata": {},
   "outputs": [
    {
     "data": {
      "text/plain": [
       "array(['Lower bound of 95% uncertainty', 'Lower bound of 80% uncertainty',\n",
       "       'MEDIAN ESTIMATE (adjusted)', 'Upper bound of 80% uncertainty',\n",
       "       'Upper bound of 95% uncertainty'], dtype=object)"
      ]
     },
     "execution_count": 21,
     "metadata": {},
     "output_type": "execute_result"
    }
   ],
   "source": [
    "df1['Median estimate and uncertainty intervals'].unique()"
   ]
  },
  {
   "cell_type": "code",
   "execution_count": 31,
   "metadata": {},
   "outputs": [],
   "source": [
    "df1 = df1[df1['Median estimate and uncertainty intervals'] == 'MEDIAN ESTIMATE (adjusted)']"
   ]
  },
  {
   "cell_type": "code",
   "execution_count": 32,
   "metadata": {},
   "outputs": [],
   "source": [
    "df1 = df1[['Country or area', 'Year', 'Indicator', 'DataValue']].copy()"
   ]
  },
  {
   "cell_type": "code",
   "execution_count": 33,
   "metadata": {},
   "outputs": [
    {
     "data": {
      "text/html": [
       "<div>\n",
       "<style scoped>\n",
       "    .dataframe tbody tr th:only-of-type {\n",
       "        vertical-align: middle;\n",
       "    }\n",
       "\n",
       "    .dataframe tbody tr th {\n",
       "        vertical-align: top;\n",
       "    }\n",
       "\n",
       "    .dataframe thead th {\n",
       "        text-align: right;\n",
       "    }\n",
       "</style>\n",
       "<table border=\"1\" class=\"dataframe\">\n",
       "  <thead>\n",
       "    <tr style=\"text-align: right;\">\n",
       "      <th></th>\n",
       "      <th>Country or area</th>\n",
       "      <th>Year</th>\n",
       "      <th>Indicator</th>\n",
       "      <th>DataValue</th>\n",
       "    </tr>\n",
       "  </thead>\n",
       "  <tbody>\n",
       "    <tr>\n",
       "      <th>2</th>\n",
       "      <td>Afghanistan</td>\n",
       "      <td>1970</td>\n",
       "      <td>Contraceptive prevalence: Any method (Percentage)</td>\n",
       "      <td>1.7</td>\n",
       "    </tr>\n",
       "    <tr>\n",
       "      <th>7</th>\n",
       "      <td>Afghanistan</td>\n",
       "      <td>1971</td>\n",
       "      <td>Contraceptive prevalence: Any method (Percentage)</td>\n",
       "      <td>1.8</td>\n",
       "    </tr>\n",
       "    <tr>\n",
       "      <th>12</th>\n",
       "      <td>Afghanistan</td>\n",
       "      <td>1972</td>\n",
       "      <td>Contraceptive prevalence: Any method (Percentage)</td>\n",
       "      <td>1.9</td>\n",
       "    </tr>\n",
       "    <tr>\n",
       "      <th>17</th>\n",
       "      <td>Afghanistan</td>\n",
       "      <td>1973</td>\n",
       "      <td>Contraceptive prevalence: Any method (Percentage)</td>\n",
       "      <td>2.1</td>\n",
       "    </tr>\n",
       "    <tr>\n",
       "      <th>22</th>\n",
       "      <td>Afghanistan</td>\n",
       "      <td>1974</td>\n",
       "      <td>Contraceptive prevalence: Any method (Percentage)</td>\n",
       "      <td>2.2</td>\n",
       "    </tr>\n",
       "  </tbody>\n",
       "</table>\n",
       "</div>"
      ],
      "text/plain": [
       "   Country or area  Year                                          Indicator  \\\n",
       "2      Afghanistan  1970  Contraceptive prevalence: Any method (Percentage)   \n",
       "7      Afghanistan  1971  Contraceptive prevalence: Any method (Percentage)   \n",
       "12     Afghanistan  1972  Contraceptive prevalence: Any method (Percentage)   \n",
       "17     Afghanistan  1973  Contraceptive prevalence: Any method (Percentage)   \n",
       "22     Afghanistan  1974  Contraceptive prevalence: Any method (Percentage)   \n",
       "\n",
       "    DataValue  \n",
       "2         1.7  \n",
       "7         1.8  \n",
       "12        1.9  \n",
       "17        2.1  \n",
       "22        2.2  "
      ]
     },
     "execution_count": 33,
     "metadata": {},
     "output_type": "execute_result"
    }
   ],
   "source": [
    "df1.head()"
   ]
  },
  {
   "cell_type": "code",
   "execution_count": 34,
   "metadata": {},
   "outputs": [],
   "source": [
    "df1['concept'] = df1['Indicator'].map(lambda x: mapping[x]['indicator'])"
   ]
  },
  {
   "cell_type": "code",
   "execution_count": 35,
   "metadata": {},
   "outputs": [],
   "source": [
    "df1['method'] = df1['Indicator'].map(lambda x: mapping[x]['method'])"
   ]
  },
  {
   "cell_type": "code",
   "execution_count": 36,
   "metadata": {},
   "outputs": [
    {
     "data": {
      "text/html": [
       "<div>\n",
       "<style scoped>\n",
       "    .dataframe tbody tr th:only-of-type {\n",
       "        vertical-align: middle;\n",
       "    }\n",
       "\n",
       "    .dataframe tbody tr th {\n",
       "        vertical-align: top;\n",
       "    }\n",
       "\n",
       "    .dataframe thead th {\n",
       "        text-align: right;\n",
       "    }\n",
       "</style>\n",
       "<table border=\"1\" class=\"dataframe\">\n",
       "  <thead>\n",
       "    <tr style=\"text-align: right;\">\n",
       "      <th></th>\n",
       "      <th>Country or area</th>\n",
       "      <th>Year</th>\n",
       "      <th>Indicator</th>\n",
       "      <th>DataValue</th>\n",
       "      <th>concept</th>\n",
       "      <th>method</th>\n",
       "    </tr>\n",
       "  </thead>\n",
       "  <tbody>\n",
       "    <tr>\n",
       "      <th>2</th>\n",
       "      <td>Afghanistan</td>\n",
       "      <td>1970</td>\n",
       "      <td>Contraceptive prevalence: Any method (Percentage)</td>\n",
       "      <td>1.7</td>\n",
       "      <td>Contraceptive prevalence (Percentage)</td>\n",
       "      <td>Any method</td>\n",
       "    </tr>\n",
       "    <tr>\n",
       "      <th>7</th>\n",
       "      <td>Afghanistan</td>\n",
       "      <td>1971</td>\n",
       "      <td>Contraceptive prevalence: Any method (Percentage)</td>\n",
       "      <td>1.8</td>\n",
       "      <td>Contraceptive prevalence (Percentage)</td>\n",
       "      <td>Any method</td>\n",
       "    </tr>\n",
       "    <tr>\n",
       "      <th>12</th>\n",
       "      <td>Afghanistan</td>\n",
       "      <td>1972</td>\n",
       "      <td>Contraceptive prevalence: Any method (Percentage)</td>\n",
       "      <td>1.9</td>\n",
       "      <td>Contraceptive prevalence (Percentage)</td>\n",
       "      <td>Any method</td>\n",
       "    </tr>\n",
       "    <tr>\n",
       "      <th>17</th>\n",
       "      <td>Afghanistan</td>\n",
       "      <td>1973</td>\n",
       "      <td>Contraceptive prevalence: Any method (Percentage)</td>\n",
       "      <td>2.1</td>\n",
       "      <td>Contraceptive prevalence (Percentage)</td>\n",
       "      <td>Any method</td>\n",
       "    </tr>\n",
       "    <tr>\n",
       "      <th>22</th>\n",
       "      <td>Afghanistan</td>\n",
       "      <td>1974</td>\n",
       "      <td>Contraceptive prevalence: Any method (Percentage)</td>\n",
       "      <td>2.2</td>\n",
       "      <td>Contraceptive prevalence (Percentage)</td>\n",
       "      <td>Any method</td>\n",
       "    </tr>\n",
       "  </tbody>\n",
       "</table>\n",
       "</div>"
      ],
      "text/plain": [
       "   Country or area  Year                                          Indicator  \\\n",
       "2      Afghanistan  1970  Contraceptive prevalence: Any method (Percentage)   \n",
       "7      Afghanistan  1971  Contraceptive prevalence: Any method (Percentage)   \n",
       "12     Afghanistan  1972  Contraceptive prevalence: Any method (Percentage)   \n",
       "17     Afghanistan  1973  Contraceptive prevalence: Any method (Percentage)   \n",
       "22     Afghanistan  1974  Contraceptive prevalence: Any method (Percentage)   \n",
       "\n",
       "    DataValue                                concept      method  \n",
       "2         1.7  Contraceptive prevalence (Percentage)  Any method  \n",
       "7         1.8  Contraceptive prevalence (Percentage)  Any method  \n",
       "12        1.9  Contraceptive prevalence (Percentage)  Any method  \n",
       "17        2.1  Contraceptive prevalence (Percentage)  Any method  \n",
       "22        2.2  Contraceptive prevalence (Percentage)  Any method  "
      ]
     },
     "execution_count": 36,
     "metadata": {},
     "output_type": "execute_result"
    }
   ],
   "source": [
    "df1.head()"
   ]
  },
  {
   "cell_type": "code",
   "execution_count": 37,
   "metadata": {},
   "outputs": [],
   "source": [
    "df1.columns = ['country', 'year', 'i', 'val', 'concept', 'method']"
   ]
  },
  {
   "cell_type": "code",
   "execution_count": 38,
   "metadata": {},
   "outputs": [],
   "source": [
    "df1 = df1[['country', 'year', 'concept', 'method', 'val']]"
   ]
  },
  {
   "cell_type": "code",
   "execution_count": 39,
   "metadata": {},
   "outputs": [
    {
     "data": {
      "text/html": [
       "<div>\n",
       "<style scoped>\n",
       "    .dataframe tbody tr th:only-of-type {\n",
       "        vertical-align: middle;\n",
       "    }\n",
       "\n",
       "    .dataframe tbody tr th {\n",
       "        vertical-align: top;\n",
       "    }\n",
       "\n",
       "    .dataframe thead th {\n",
       "        text-align: right;\n",
       "    }\n",
       "</style>\n",
       "<table border=\"1\" class=\"dataframe\">\n",
       "  <thead>\n",
       "    <tr style=\"text-align: right;\">\n",
       "      <th></th>\n",
       "      <th>country</th>\n",
       "      <th>year</th>\n",
       "      <th>concept</th>\n",
       "      <th>method</th>\n",
       "      <th>val</th>\n",
       "    </tr>\n",
       "  </thead>\n",
       "  <tbody>\n",
       "    <tr>\n",
       "      <th>2</th>\n",
       "      <td>Afghanistan</td>\n",
       "      <td>1970</td>\n",
       "      <td>Contraceptive prevalence (Percentage)</td>\n",
       "      <td>Any method</td>\n",
       "      <td>1.7</td>\n",
       "    </tr>\n",
       "    <tr>\n",
       "      <th>7</th>\n",
       "      <td>Afghanistan</td>\n",
       "      <td>1971</td>\n",
       "      <td>Contraceptive prevalence (Percentage)</td>\n",
       "      <td>Any method</td>\n",
       "      <td>1.8</td>\n",
       "    </tr>\n",
       "    <tr>\n",
       "      <th>12</th>\n",
       "      <td>Afghanistan</td>\n",
       "      <td>1972</td>\n",
       "      <td>Contraceptive prevalence (Percentage)</td>\n",
       "      <td>Any method</td>\n",
       "      <td>1.9</td>\n",
       "    </tr>\n",
       "    <tr>\n",
       "      <th>17</th>\n",
       "      <td>Afghanistan</td>\n",
       "      <td>1973</td>\n",
       "      <td>Contraceptive prevalence (Percentage)</td>\n",
       "      <td>Any method</td>\n",
       "      <td>2.1</td>\n",
       "    </tr>\n",
       "    <tr>\n",
       "      <th>22</th>\n",
       "      <td>Afghanistan</td>\n",
       "      <td>1974</td>\n",
       "      <td>Contraceptive prevalence (Percentage)</td>\n",
       "      <td>Any method</td>\n",
       "      <td>2.2</td>\n",
       "    </tr>\n",
       "  </tbody>\n",
       "</table>\n",
       "</div>"
      ],
      "text/plain": [
       "        country  year                                concept      method  val\n",
       "2   Afghanistan  1970  Contraceptive prevalence (Percentage)  Any method  1.7\n",
       "7   Afghanistan  1971  Contraceptive prevalence (Percentage)  Any method  1.8\n",
       "12  Afghanistan  1972  Contraceptive prevalence (Percentage)  Any method  1.9\n",
       "17  Afghanistan  1973  Contraceptive prevalence (Percentage)  Any method  2.1\n",
       "22  Afghanistan  1974  Contraceptive prevalence (Percentage)  Any method  2.2"
      ]
     },
     "execution_count": 39,
     "metadata": {},
     "output_type": "execute_result"
    }
   ],
   "source": [
    "df1.head()"
   ]
  },
  {
   "cell_type": "code",
   "execution_count": 41,
   "metadata": {},
   "outputs": [],
   "source": [
    "gs = df1.groupby('concept')"
   ]
  },
  {
   "cell_type": "code",
   "execution_count": 51,
   "metadata": {},
   "outputs": [],
   "source": [
    "for c, df_ in gs:\n",
    "    c_id = to_concept_id(c)\n",
    "    df = df_.copy()\n",
    "    df = df.drop('concept', axis=1)\n",
    "    df['country'] = df['country'].map(to_concept_id)\n",
    "    df['method'] = df['method'].map(method_mapping)\n",
    "    df.columns = ['country', 'year', 'method', c_id]\n",
    "    df = df[['country', 'method', 'year', c_id]]\n",
    "\n",
    "    if df['method'].dropna().empty:\n",
    "        df = df.drop('method', axis=1)\n",
    "        df.to_csv('../../ddf--datapoints--{}--by--country--year.csv'.format(c_id), index=False)\n",
    "    else:\n",
    "        df.to_csv('../../ddf--datapoints--{}--by--country--method--year.csv'.format(c_id), index=False)"
   ]
  },
  {
   "cell_type": "code",
   "execution_count": 70,
   "metadata": {},
   "outputs": [],
   "source": [
    "!open ../../"
   ]
  },
  {
   "cell_type": "code",
   "execution_count": null,
   "metadata": {},
   "outputs": [],
   "source": []
  },
  {
   "cell_type": "code",
   "execution_count": 67,
   "metadata": {},
   "outputs": [],
   "source": [
    "data2 = pd.read_excel(source, sheet_name='FP Indicators (Number)', skiprows=3)"
   ]
  },
  {
   "cell_type": "code",
   "execution_count": 68,
   "metadata": {},
   "outputs": [],
   "source": [
    "df2 = data2[['Country or area', 'Indicator', 'Median estimate and uncertainty intervals', 'DataValue', 'Year']]\n",
    "df2 = df2[df2['Median estimate and uncertainty intervals'] == 'MEDIAN ESTIMATE (adjusted)']"
   ]
  },
  {
   "cell_type": "code",
   "execution_count": 69,
   "metadata": {},
   "outputs": [],
   "source": [
    "df2 = df2[['Country or area', 'Year', 'Indicator', 'DataValue']].copy()\n",
    "df2['concept'] = df2['Indicator'].map(lambda x: mapping[x]['indicator'])\n",
    "df2['method'] = df2['Indicator'].map(lambda x: mapping[x]['method'])\n",
    "\n",
    "df2.columns = ['country', 'year', 'i', 'val', 'concept', 'method']\n",
    "\n",
    "df2 = df2[['country', 'year', 'concept', 'method', 'val']]\n",
    "\n",
    "gs = df2.groupby('concept')\n",
    "\n",
    "for c, df_ in gs:\n",
    "    c_id = to_concept_id(c)\n",
    "    df = df_.copy()\n",
    "    df = df.drop('concept', axis=1)\n",
    "    df['country'] = df['country'].map(to_concept_id)\n",
    "    df['method'] = df['method'].map(method_mapping)\n",
    "    df.columns = ['country', 'year', 'method', c_id]\n",
    "    df = df[['country', 'method', 'year', c_id]]\n",
    "\n",
    "    if df['method'].dropna().empty:\n",
    "        df = df.drop('method', axis=1)\n",
    "        df.to_csv('../../ddf--datapoints--{}--by--country--year.csv'.format(c_id), index=False)\n",
    "    else:\n",
    "        df.to_csv('../../ddf--datapoints--{}--by--country--method--year.csv'.format(c_id), index=False)"
   ]
  },
  {
   "cell_type": "code",
   "execution_count": null,
   "metadata": {},
   "outputs": [],
   "source": []
  },
  {
   "cell_type": "code",
   "execution_count": 54,
   "metadata": {},
   "outputs": [],
   "source": [
    "# entities"
   ]
  },
  {
   "cell_type": "code",
   "execution_count": 57,
   "metadata": {},
   "outputs": [],
   "source": [
    "methods = pd.DataFrame({'method': list(method_mapping.values()), 'name': list(method_mapping.keys())})"
   ]
  },
  {
   "cell_type": "code",
   "execution_count": 58,
   "metadata": {},
   "outputs": [
    {
     "data": {
      "text/html": [
       "<div>\n",
       "<style scoped>\n",
       "    .dataframe tbody tr th:only-of-type {\n",
       "        vertical-align: middle;\n",
       "    }\n",
       "\n",
       "    .dataframe tbody tr th {\n",
       "        vertical-align: top;\n",
       "    }\n",
       "\n",
       "    .dataframe thead th {\n",
       "        text-align: right;\n",
       "    }\n",
       "</style>\n",
       "<table border=\"1\" class=\"dataframe\">\n",
       "  <thead>\n",
       "    <tr style=\"text-align: right;\">\n",
       "      <th></th>\n",
       "      <th>method</th>\n",
       "      <th>name</th>\n",
       "    </tr>\n",
       "  </thead>\n",
       "  <tbody>\n",
       "    <tr>\n",
       "      <th>0</th>\n",
       "      <td>any</td>\n",
       "      <td>Any method</td>\n",
       "    </tr>\n",
       "    <tr>\n",
       "      <th>1</th>\n",
       "      <td>traditional</td>\n",
       "      <td>traditional method</td>\n",
       "    </tr>\n",
       "    <tr>\n",
       "      <th>2</th>\n",
       "      <td>modern</td>\n",
       "      <td>modern method</td>\n",
       "    </tr>\n",
       "  </tbody>\n",
       "</table>\n",
       "</div>"
      ],
      "text/plain": [
       "        method                name\n",
       "0          any          Any method\n",
       "1  traditional  traditional method\n",
       "2       modern       modern method"
      ]
     },
     "execution_count": 58,
     "metadata": {},
     "output_type": "execute_result"
    }
   ],
   "source": [
    "methods"
   ]
  },
  {
   "cell_type": "code",
   "execution_count": 59,
   "metadata": {},
   "outputs": [],
   "source": [
    "methods.to_csv('../../ddf--entities--method.csv', index=False)"
   ]
  },
  {
   "cell_type": "code",
   "execution_count": 60,
   "metadata": {},
   "outputs": [],
   "source": [
    "countries = data1['Country or area'].unique()"
   ]
  },
  {
   "cell_type": "code",
   "execution_count": 61,
   "metadata": {},
   "outputs": [],
   "source": [
    "countries = pd.DataFrame({'country': list(map(to_concept_id, countries)), 'name': countries})"
   ]
  },
  {
   "cell_type": "code",
   "execution_count": 64,
   "metadata": {},
   "outputs": [
    {
     "data": {
      "text/html": [
       "<div>\n",
       "<style scoped>\n",
       "    .dataframe tbody tr th:only-of-type {\n",
       "        vertical-align: middle;\n",
       "    }\n",
       "\n",
       "    .dataframe tbody tr th {\n",
       "        vertical-align: top;\n",
       "    }\n",
       "\n",
       "    .dataframe thead th {\n",
       "        text-align: right;\n",
       "    }\n",
       "</style>\n",
       "<table border=\"1\" class=\"dataframe\">\n",
       "  <thead>\n",
       "    <tr style=\"text-align: right;\">\n",
       "      <th></th>\n",
       "      <th>country</th>\n",
       "      <th>name</th>\n",
       "    </tr>\n",
       "  </thead>\n",
       "  <tbody>\n",
       "    <tr>\n",
       "      <th>0</th>\n",
       "      <td>afghanistan</td>\n",
       "      <td>Afghanistan</td>\n",
       "    </tr>\n",
       "    <tr>\n",
       "      <th>1</th>\n",
       "      <td>albania</td>\n",
       "      <td>Albania</td>\n",
       "    </tr>\n",
       "    <tr>\n",
       "      <th>2</th>\n",
       "      <td>algeria</td>\n",
       "      <td>Algeria</td>\n",
       "    </tr>\n",
       "    <tr>\n",
       "      <th>3</th>\n",
       "      <td>angola</td>\n",
       "      <td>Angola</td>\n",
       "    </tr>\n",
       "    <tr>\n",
       "      <th>4</th>\n",
       "      <td>antigua_and_barbuda</td>\n",
       "      <td>Antigua and Barbuda</td>\n",
       "    </tr>\n",
       "  </tbody>\n",
       "</table>\n",
       "</div>"
      ],
      "text/plain": [
       "               country                 name\n",
       "0          afghanistan          Afghanistan\n",
       "1              albania              Albania\n",
       "2              algeria              Algeria\n",
       "3               angola               Angola\n",
       "4  antigua_and_barbuda  Antigua and Barbuda"
      ]
     },
     "execution_count": 64,
     "metadata": {},
     "output_type": "execute_result"
    }
   ],
   "source": [
    "countries.head()"
   ]
  },
  {
   "cell_type": "code",
   "execution_count": 63,
   "metadata": {},
   "outputs": [],
   "source": [
    "countries.to_csv('../../ddf--entities--country.csv', index=False)"
   ]
  },
  {
   "cell_type": "code",
   "execution_count": null,
   "metadata": {},
   "outputs": [],
   "source": []
  },
  {
   "cell_type": "code",
   "execution_count": 65,
   "metadata": {},
   "outputs": [],
   "source": [
    "# concepts"
   ]
  },
  {
   "cell_type": "code",
   "execution_count": 71,
   "metadata": {},
   "outputs": [],
   "source": [
    "measures = [c1, c2, c3, c4, c5, c6]"
   ]
  },
  {
   "cell_type": "code",
   "execution_count": 72,
   "metadata": {},
   "outputs": [],
   "source": [
    "measures = pd.DataFrame({'concept': list(map(to_concept_id, measures)), 'name': measures})"
   ]
  },
  {
   "cell_type": "code",
   "execution_count": 73,
   "metadata": {},
   "outputs": [],
   "source": [
    "measures['concept_type'] = 'measure'"
   ]
  },
  {
   "cell_type": "code",
   "execution_count": 74,
   "metadata": {},
   "outputs": [
    {
     "data": {
      "text/html": [
       "<div>\n",
       "<style scoped>\n",
       "    .dataframe tbody tr th:only-of-type {\n",
       "        vertical-align: middle;\n",
       "    }\n",
       "\n",
       "    .dataframe tbody tr th {\n",
       "        vertical-align: top;\n",
       "    }\n",
       "\n",
       "    .dataframe thead th {\n",
       "        text-align: right;\n",
       "    }\n",
       "</style>\n",
       "<table border=\"1\" class=\"dataframe\">\n",
       "  <thead>\n",
       "    <tr style=\"text-align: right;\">\n",
       "      <th></th>\n",
       "      <th>concept</th>\n",
       "      <th>name</th>\n",
       "      <th>concept_type</th>\n",
       "    </tr>\n",
       "  </thead>\n",
       "  <tbody>\n",
       "    <tr>\n",
       "      <th>0</th>\n",
       "      <td>contraceptive_prevalence_percentage</td>\n",
       "      <td>Contraceptive prevalence (Percentage)</td>\n",
       "      <td>measure</td>\n",
       "    </tr>\n",
       "    <tr>\n",
       "      <th>1</th>\n",
       "      <td>unmet_need_percentage</td>\n",
       "      <td>Unmet need (Percentage)</td>\n",
       "      <td>measure</td>\n",
       "    </tr>\n",
       "    <tr>\n",
       "      <th>2</th>\n",
       "      <td>total_demand_percentage</td>\n",
       "      <td>Total demand (Percentage)</td>\n",
       "      <td>measure</td>\n",
       "    </tr>\n",
       "    <tr>\n",
       "      <th>3</th>\n",
       "      <td>demand_satisfied_percentage</td>\n",
       "      <td>Demand satisfied (Percentage)</td>\n",
       "      <td>measure</td>\n",
       "    </tr>\n",
       "    <tr>\n",
       "      <th>4</th>\n",
       "      <td>contraceptive_prevalence_number</td>\n",
       "      <td>Contraceptive prevalence (Number)</td>\n",
       "      <td>measure</td>\n",
       "    </tr>\n",
       "    <tr>\n",
       "      <th>5</th>\n",
       "      <td>unmet_need_number</td>\n",
       "      <td>Unmet need (Number)</td>\n",
       "      <td>measure</td>\n",
       "    </tr>\n",
       "  </tbody>\n",
       "</table>\n",
       "</div>"
      ],
      "text/plain": [
       "                               concept                                   name  \\\n",
       "0  contraceptive_prevalence_percentage  Contraceptive prevalence (Percentage)   \n",
       "1                unmet_need_percentage                Unmet need (Percentage)   \n",
       "2              total_demand_percentage              Total demand (Percentage)   \n",
       "3          demand_satisfied_percentage          Demand satisfied (Percentage)   \n",
       "4      contraceptive_prevalence_number      Contraceptive prevalence (Number)   \n",
       "5                    unmet_need_number                    Unmet need (Number)   \n",
       "\n",
       "  concept_type  \n",
       "0      measure  \n",
       "1      measure  \n",
       "2      measure  \n",
       "3      measure  \n",
       "4      measure  \n",
       "5      measure  "
      ]
     },
     "execution_count": 74,
     "metadata": {},
     "output_type": "execute_result"
    }
   ],
   "source": [
    "measures"
   ]
  },
  {
   "cell_type": "code",
   "execution_count": 76,
   "metadata": {},
   "outputs": [],
   "source": [
    "discrete = pd.DataFrame([\n",
    "    ['year', 'Year', 'time'],\n",
    "    ['name', 'Name', 'string'],\n",
    "    ['method', 'Contraception method', 'entity_domain'],\n",
    "    ['country', 'Country', 'entity_domain']\n",
    "], columns=['concept', 'name', 'concept_type'])"
   ]
  },
  {
   "cell_type": "code",
   "execution_count": 77,
   "metadata": {},
   "outputs": [
    {
     "data": {
      "text/html": [
       "<div>\n",
       "<style scoped>\n",
       "    .dataframe tbody tr th:only-of-type {\n",
       "        vertical-align: middle;\n",
       "    }\n",
       "\n",
       "    .dataframe tbody tr th {\n",
       "        vertical-align: top;\n",
       "    }\n",
       "\n",
       "    .dataframe thead th {\n",
       "        text-align: right;\n",
       "    }\n",
       "</style>\n",
       "<table border=\"1\" class=\"dataframe\">\n",
       "  <thead>\n",
       "    <tr style=\"text-align: right;\">\n",
       "      <th></th>\n",
       "      <th>concept</th>\n",
       "      <th>name</th>\n",
       "      <th>concept_type</th>\n",
       "    </tr>\n",
       "  </thead>\n",
       "  <tbody>\n",
       "    <tr>\n",
       "      <th>0</th>\n",
       "      <td>year</td>\n",
       "      <td>Year</td>\n",
       "      <td>time</td>\n",
       "    </tr>\n",
       "    <tr>\n",
       "      <th>1</th>\n",
       "      <td>name</td>\n",
       "      <td>Name</td>\n",
       "      <td>string</td>\n",
       "    </tr>\n",
       "    <tr>\n",
       "      <th>2</th>\n",
       "      <td>method</td>\n",
       "      <td>Contraception method</td>\n",
       "      <td>entity_domain</td>\n",
       "    </tr>\n",
       "    <tr>\n",
       "      <th>3</th>\n",
       "      <td>country</td>\n",
       "      <td>Country</td>\n",
       "      <td>entity_domain</td>\n",
       "    </tr>\n",
       "  </tbody>\n",
       "</table>\n",
       "</div>"
      ],
      "text/plain": [
       "   concept                  name   concept_type\n",
       "0     year                  Year           time\n",
       "1     name                  Name         string\n",
       "2   method  Contraception method  entity_domain\n",
       "3  country               Country  entity_domain"
      ]
     },
     "execution_count": 77,
     "metadata": {},
     "output_type": "execute_result"
    }
   ],
   "source": [
    "discrete"
   ]
  },
  {
   "cell_type": "code",
   "execution_count": 78,
   "metadata": {},
   "outputs": [],
   "source": [
    "cdf = pd.concat([measures, discrete], ignore_index=True)"
   ]
  },
  {
   "cell_type": "code",
   "execution_count": 80,
   "metadata": {},
   "outputs": [],
   "source": [
    "cdf.to_csv('../../ddf--concepts.csv', index=False)"
   ]
  },
  {
   "cell_type": "code",
   "execution_count": null,
   "metadata": {},
   "outputs": [],
   "source": []
  }
 ],
 "metadata": {
  "kernelspec": {
   "display_name": "Python 3",
   "language": "python",
   "name": "python3"
  },
  "language_info": {
   "codemirror_mode": {
    "name": "ipython",
    "version": 3
   },
   "file_extension": ".py",
   "mimetype": "text/x-python",
   "name": "python",
   "nbconvert_exporter": "python",
   "pygments_lexer": "ipython3",
   "version": "3.6.7"
  }
 },
 "nbformat": 4,
 "nbformat_minor": 2
}
